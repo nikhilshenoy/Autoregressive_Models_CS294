{
  "nbformat": 4,
  "nbformat_minor": 0,
  "metadata": {
    "colab": {
      "name": "Conditional PixelCNN Tutorial.ipynb",
      "provenance": [],
      "collapsed_sections": []
    },
    "kernelspec": {
      "name": "python3",
      "display_name": "Python 3"
    },
    "accelerator": "GPU"
  },
  "cells": [
    {
      "cell_type": "code",
      "metadata": {
        "id": "kIHrnUMxnzxM",
        "colab_type": "code",
        "colab": {}
      },
      "source": [
        "import numpy as np\n",
        "import torch\n",
        "import torch.optim as optim\n",
        "import torch.nn as nn\n",
        "import torch.nn.functional as F\n",
        "import torch.utils.data as data\n",
        "\n",
        "import torchvision\n",
        "import torchvision.transforms as transforms\n",
        "\n",
        "import matplotlib.pyplot as plt"
      ],
      "execution_count": 1,
      "outputs": []
    },
    {
      "cell_type": "code",
      "metadata": {
        "id": "zJkYoCljznys",
        "colab_type": "code",
        "colab": {}
      },
      "source": [
        "epochs = 10\n",
        "minibatch = 128\n",
        "d = 2\n",
        "\n",
        "train_dataset = torchvision.datasets.MNIST(root = './',\n",
        "                                                  train = True,\n",
        "                                                  download=True,\n",
        "                                                  transform = transforms.Compose([transforms.ToTensor()]))\n",
        "test_dataset = torchvision.datasets.MNIST(root = './',\n",
        "                                                 train = False,\n",
        "                                                 download=True,\n",
        "                                                 transform = transforms.Compose([transforms.ToTensor()]))"
      ],
      "execution_count": 29,
      "outputs": []
    },
    {
      "cell_type": "code",
      "metadata": {
        "id": "_L0woyafIM86",
        "colab_type": "code",
        "colab": {}
      },
      "source": [
        "n_classes = 10\n",
        "# preprocess dataset \n",
        "for idx, (image, label) in enumerate(train_dataset):\n",
        "    # binarize image\n",
        "    image[image < 0.5] = 0\n",
        "    image[image >= 0.5] = 1\n",
        "    # one hot encode labels\n",
        "    label_oh = np.zeros([1, n_classes])\n",
        "    label_oh[0][label] = 1\n",
        "    label_oh = torch.tensor(label_oh.astype('float32'))\n",
        "    \n",
        "for idx, (image, label) in enumerate(test_dataset):\n",
        "    # # binarize image\n",
        "    image[image < 0.5] = 0\n",
        "    image[image >= 0.5] = 1\n",
        "    # one hot encode labels\n",
        "    label_oh = np.zeros([1, n_classes])\n",
        "    label_oh[0][label] = 1\n",
        "    label_oh = torch.tensor(label_oh.astype('float32'))"
      ],
      "execution_count": 32,
      "outputs": []
    },
    {
      "cell_type": "code",
      "metadata": {
        "id": "DZOMc__AMPLn",
        "colab_type": "code",
        "colab": {
          "base_uri": "https://localhost:8080/",
          "height": 282
        },
        "outputId": "a626384c-5b77-4a75-8a9a-e9353aa31265"
      },
      "source": [
        "plt.imshow(image.view(28, 28).numpy())"
      ],
      "execution_count": 36,
      "outputs": [
        {
          "output_type": "execute_result",
          "data": {
            "text/plain": [
              "<matplotlib.image.AxesImage at 0x7fa963c83630>"
            ]
          },
          "metadata": {
            "tags": []
          },
          "execution_count": 36
        },
        {
          "output_type": "display_data",
          "data": {
            "image/png": "[encoded data removed]",
            "text/plain": [
              "<Figure size 432x288 with 1 Axes>"
            ]
          },
          "metadata": {
            "tags": [],
            "needs_background": "light"
          }
        }
      ]
    },
    {
      "cell_type": "code",
      "metadata": {
        "id": "ODcFuMwOn7D5",
        "colab_type": "code",
        "colab": {}
      },
      "source": [
        "class MaskConv2D(nn.Conv2d):\n",
        "    def __init__(self, mask_type, *args, color_conditioning = False, conditional_size = None, **kwargs):\n",
        "        super().__init__(*args, **kwargs)\n",
        "        self.register_buffer('mask', torch.zeros(self.weight.size())) # Weight shape is same as tensor shape\n",
        "        self.conditional_size = conditional_size\n",
        "        assert mask_type in ['A', 'B'], \"Unknown Mask Type\"\n",
        "        h =  self.kernel_size[0]\n",
        "        w = self.kernel_size[1]\n",
        "        \n",
        "        # Creating masks for autoregressive properties\n",
        "        self.mask[:, :, :h//2, :] = 1  # Mask type A \n",
        "        self.mask[:, :, h//2, :w//2 + (mask_type == 'B')] = 1 # Mask type B\n",
        "        \n",
        "        # Adding autoregressive property of color channels\n",
        "        if color_conditioning:\n",
        "            in_third, out_third = self.in_channels // 3, self.out_channels // 3\n",
        "            if mask_type == 'B':\n",
        "                self.mask[2*out_third:, :, h // 2, w // 2] = 1 # B has connections from R, G and B of input mask\n",
        "                self.mask[out_third:2*out_third, :2*in_third, h // 2, w // 2] = 1 # G has connections from R and G\n",
        "                self.mask[out_third:, in_third:, h // 2, w // 2] = 1 # R has connections only from R\n",
        "            else:\n",
        "                self.mask[out_third:2*out_third, :in_third, h // 2, w // 2] = 1  # G has connections from R\n",
        "                self.mask[2*out_third:, :2*in_third, h // 2, w // 2] = 1 # B has connections from R and G\n",
        "                \n",
        "        if self.conditional_size:\n",
        "            if len(self.conditional_size) == 1:\n",
        "                self.cond_op = nn.Linear(conditional_size[0], self.out_channels)\n",
        "            else:\n",
        "                self.cond_op = nn.Conv2d(conditional_size[0], self.out_channels, stride = 1,\n",
        "                                         kernel_size = 3, padding = 1)\n",
        "      \n",
        "    def forward(self, x, cond = None):\n",
        "        self.weight.data *= self.mask\n",
        "        out = super(MaskConv2D, self).forward(x)\n",
        "        if self.conditional_size:\n",
        "            if len(self.conditional_size) == 1:\n",
        "                out = out + self.cond_op(cond).view(x.shape[0], -1, 1, 1)\n",
        "            else:\n",
        "                out = out + self.cond_op(cond)\n",
        "        return out\n",
        "\n",
        "class ResBlock(nn.Module):\n",
        "    def __init__(self, in_channels, **kwargs):\n",
        "        super(ResBlock, self).__init__()\n",
        "        self.net = nn.ModuleList()\n",
        "        self.net = self.net.extend([\n",
        "            nn.ReLU(),\n",
        "            MaskConv2D('B', in_channels, in_channels // 2, 1, 1, 1 // 2, **kwargs),\n",
        "            nn.ReLU(),\n",
        "            MaskConv2D('B', in_channels // 2, in_channels // 2, 7, 1,  7 // 2, **kwargs),\n",
        "            nn.ReLU(),\n",
        "            MaskConv2D('B', in_channels // 2, in_channels, 1, 1, 1 // 2, **kwargs),\n",
        "        ])\n",
        "    def forward(self, x, cond = None):\n",
        "        out = x\n",
        "        for layer in self.net:\n",
        "            if isinstance(layer, MaskConv2D):\n",
        "                out = layer(out, cond = cond)\n",
        "            else:\n",
        "                out = layer(out)\n",
        "        return x + out"
      ],
      "execution_count": 28,
      "outputs": []
    },
    {
      "cell_type": "code",
      "metadata": {
        "id": "q67cuNEknKlD",
        "colab_type": "code",
        "colab": {}
      },
      "source": [
        "class Conditional_PixelCNN(nn.Module):\n",
        "    def __init__(self, input_shape, channels, colors, no_of_layers,\n",
        "                 color_conditioning, use_ResBlock, conditional_size = None, device = None):\n",
        "        super(Conditional_PixelCNN, self).__init__()\n",
        "        self.input_shape = input_shape\n",
        "        self.device = device\n",
        "        self.channels = channels\n",
        "        self.color_channels = colors\n",
        "        self.color_conditioning = color_conditioning\n",
        "        self.conditional_size = conditional_size\n",
        "        \n",
        "        # Define kwargs based on input\n",
        "        kwargs = dict(\n",
        "            color_conditioning = self.color_conditioning,\n",
        "            conditional_size = self.conditional_size\n",
        "        )\n",
        "        \n",
        "        # Initialize block function to be used repeatedly\n",
        "        if use_ResBlock:\n",
        "            block = lambda: ResBlock(channels, **kwargs)    \n",
        "        else:\n",
        "            block = lambda: MaskConv2D('B', channels, channels,\n",
        "                                       kernel_size = 7, padding = 7 // 2,\n",
        "                                       **kwargs)\n",
        "        \n",
        "        # 7 x 7 Conv2D operation using Type A Mask\n",
        "        kernel_size = 7\n",
        "        self.net = nn.ModuleList()\n",
        "        self.net.extend([MaskConv2D('A', input_shape[0], channels,\n",
        "                                    kernel_size = 7, padding = 7 // 2,\n",
        "                                    **kwargs)])\n",
        "        \n",
        "        # 5 7 x 7 Conv2D operation using Type B Mask\n",
        "        for _ in range(no_of_layers):\n",
        "            self.net.extend([nn.ReLU(),\n",
        "                                nn.BatchNorm2d(channels),\n",
        "                                block(),])\n",
        "        \n",
        "        # 2 1 x 1 Conv2D operation using Type B Mask\n",
        "        self.net.extend([nn.ReLU(),\n",
        "                            nn.BatchNorm2d(channels),\n",
        "                            MaskConv2D('B', channels, channels, 1, 1, **kwargs),\n",
        "                            nn.ReLU(),\n",
        "                            nn.BatchNorm2d(channels),\n",
        "                            MaskConv2D('B', channels, self.color_channels * self.input_shape[0],\n",
        "                                       1, 1, **kwargs)])\n",
        "        \n",
        "#         self.net = nn.ModuleList(self.layers)\n",
        "        \n",
        "        if self.conditional_size:\n",
        "            if len(self.conditional_size) == 1:\n",
        "                self.cond_op = lambda x: x  # identity\n",
        "            else:\n",
        "                self.cond_op = nn.Sequential(\n",
        "            F.relu(nn.Conv2d(1, 64, 3, padding=1)),\n",
        "            F.relu(nn.Conv2d(64, 64, 3, padding=1)),\n",
        "            F.relu(nn.Conv2d(64, 64, 3, padding=1)),\n",
        "        )\n",
        "\n",
        "    def forward(self, x, cond = None):\n",
        "        batch_size = x.shape[0]\n",
        "        out = (x.float() / (self.color_channels - 1) - 0.5) / 0.5\n",
        "        if self.conditional_size:\n",
        "            cond = self.cond_op(cond)\n",
        "        for layer in self.net:\n",
        "            if isinstance(layer, MaskConv2D) or isinstance(layer, ResBlock):\n",
        "                out = layer(out, cond)\n",
        "            else:\n",
        "                out = layer(out)\n",
        "            \n",
        "        if self.color_conditioning:\n",
        "            return out.view(batch_size, self.input_shape[0], self.color_channels,\n",
        "                          *self.input_shape[1:]).permute(0, 2, 1, 3, 4)\n",
        "        else:\n",
        "            return out.view(batch_size, self.color_channels, *self.input_shape)\n",
        "    \n",
        "    def loss(self, x, cond = None):\n",
        "        return F.cross_entropy(self(x, cond = cond), x.long())\n",
        " \n",
        "    def get_samples(self, n, cond=None):\n",
        "        samples = torch.zeros([n, *self.input_shape]).to(self.device)\n",
        "        with torch.no_grad():\n",
        "            for r in range(self.input_shape[1]):\n",
        "                for c in range(self.input_shape[2]):\n",
        "                    for k in range(self.input_shape[0]):\n",
        "                        out = self(samples, cond=cond)[:, :, k, r, c]\n",
        "                        probs = F.softmax(out, dim = 1)\n",
        "                        samples[:, k, r, c] = torch.multinomial(probs, 1).squeeze(-1)\n",
        "        return samples.permute(0, 2, 3, 1).cpu().numpy()"
      ],
      "execution_count": 44,
      "outputs": []
    },
    {
      "cell_type": "code",
      "metadata": {
        "id": "qEQo1iSMz1W0",
        "colab_type": "code",
        "colab": {}
      },
      "source": [
        "def train(model, trainloader, optimizer, device):\n",
        "    model.train()\n",
        "    train_loss = []\n",
        "    for idx, (img, labels) in enumerate(trainloader):\n",
        "        optimizer.zero_grad()\n",
        "        loss = model.loss(img.to(device), cond = labels)\n",
        "        train_loss.append(loss.item())\n",
        "        loss.backward()\n",
        "        optimizer.step()\n",
        "    return train_loss\n",
        "\n",
        "def evaluate(model, testloader, optimizer, device):\n",
        "    model.eval()\n",
        "    test_loss = 0\n",
        "    with torch.no_grad():\n",
        "        for idx, (img, labels) in enumerate(testloader):\n",
        "            loss = model.loss(img.to(device)).item()\n",
        "            test_loss += loss * img.shape[0]\n",
        "        test_loss /= len(testloader.dataset) # dividing by batch size\n",
        "    return test_loss"
      ],
      "execution_count": 8,
      "outputs": []
    },
    {
      "cell_type": "code",
      "metadata": {
        "id": "Uc9QX3mfIg4K",
        "colab_type": "code",
        "colab": {
          "base_uri": "https://localhost:8080/",
          "height": 51
        },
        "outputId": "3be5c4da-3679-463e-9c98-cf3e4b44475d"
      },
      "source": [
        "epochs = 2\n",
        "minibatch = 128\n",
        "d = 2\n",
        "\n",
        "train_loss = np.zeros([minibatch * epochs, 1])\n",
        "test_loss = np.zeros([epochs, 1])\n",
        "\n",
        "trainLoader = torch.utils.data.DataLoader(train_dataset, batch_size = minibatch, shuffle = True)\n",
        "testLoader = torch.utils.data.DataLoader(test_dataset, batch_size = minibatch, shuffle = True)\n",
        "\n",
        "device = torch.device(\"cuda\" if torch.cuda.is_available() else \"cpu\")\n",
        "model = Conditional_PixelCNN((1, 28, 28),\n",
        "                             channels = 64,\n",
        "                             colors = 2, # binarized image\n",
        "                             no_of_layers = 3,\n",
        "                             color_conditioning=False,\n",
        "                             use_ResBlock = True,\n",
        "                             conditional_size = None,\n",
        "                             device = device).to(device)\n",
        "optimizer = optim.Adam(model.parameters(), lr=0.02)\n",
        "\n",
        "train_loss = []\n",
        "test_loss = []\n",
        "\n",
        "for epoch in range(epochs):\n",
        "    print (\"Epoch No. \" + str(epoch))\n",
        "    train_loss.extend(train(model, trainLoader, optimizer, device))\n",
        "    test_loss.append(evaluate(model, testLoader, optimizer, device)) "
      ],
      "execution_count": 46,
      "outputs": [
        {
          "output_type": "stream",
          "text": [
            "Epoch No. 0\n",
            "Epoch No. 1\n"
          ],
          "name": "stdout"
        }
      ]
    },
    {
      "cell_type": "code",
      "metadata": {
        "id": "6ExpTw2eIZzn",
        "colab_type": "code",
        "colab": {
          "base_uri": "https://localhost:8080/",
          "height": 265
        },
        "outputId": "b171e8cc-603d-4443-f73f-c26a151bbc85"
      },
      "source": [
        "plt.plot(train_loss)\n",
        "plt.show()"
      ],
      "execution_count": 47,
      "outputs": [
        {
          "output_type": "display_data",
          "data": {
            "image/png": "[encoded data removed]",
            "text/plain": [
              "<Figure size 432x288 with 1 Axes>"
            ]
          },
          "metadata": {
            "tags": [],
            "needs_background": "light"
          }
        }
      ]
    },
    {
      "cell_type": "code",
      "metadata": {
        "id": "5IXBikRnJnX7",
        "colab_type": "code",
        "colab": {
          "base_uri": "https://localhost:8080/",
          "height": 265
        },
        "outputId": "7726e626-a4d2-416f-8dde-a145244129ae"
      },
      "source": [
        "plt.plot(test_loss)\n",
        "plt.show()"
      ],
      "execution_count": 48,
      "outputs": [
        {
          "output_type": "display_data",
          "data": {
            "image/png": "[encoded data removed]",
            "text/plain": [
              "<Figure size 432x288 with 1 Axes>"
            ]
          },
          "metadata": {
            "tags": [],
            "needs_background": "light"
          }
        }
      ]
    },
    {
      "cell_type": "code",
      "metadata": {
        "id": "K09pyRt3JpmK",
        "colab_type": "code",
        "colab": {}
      },
      "source": [
        "n_classes = 10\n",
        "cond = torch.arange(n_classes).unsqueeze(1).repeat(1, 25 // n_classes).view(-1).long()\n",
        "one_hot = torch.FloatTensor(cond.shape[0], n_classes)\n",
        "one_hot.zero_()\n",
        "one_hot.scatter_(1, cond.unsqueeze(1), 1)\n",
        "one_hot = one_hot.to(device)\n",
        "\n",
        "s = model.get_samples(25)"
      ],
      "execution_count": 49,
      "outputs": []
    },
    {
      "cell_type": "code",
      "metadata": {
        "id": "vEd47ptmK317",
        "colab_type": "code",
        "colab": {
          "base_uri": "https://localhost:8080/",
          "height": 34
        },
        "outputId": "226d03bb-f187-40ef-f72d-3be9f3b7f2ec"
      },
      "source": [
        "np.unique(s[1])"
      ],
      "execution_count": 50,
      "outputs": [
        {
          "output_type": "execute_result",
          "data": {
            "text/plain": [
              "array([0.], dtype=float32)"
            ]
          },
          "metadata": {
            "tags": []
          },
          "execution_count": 50
        }
      ]
    },
    {
      "cell_type": "code",
      "metadata": {
        "id": "oYPiINtcKijr",
        "colab_type": "code",
        "colab": {
          "base_uri": "https://localhost:8080/",
          "height": 269
        },
        "outputId": "65ebe390-e6a1-4341-a433-33b87df5f06a"
      },
      "source": [
        "size = 5\n",
        "fig, axs = plt.subplots(size, size)\n",
        "for i in range(0, size):\n",
        "    for j in range(0, size):\n",
        "        axs[i, j].imshow(s[size * i + j].reshape(28, 28))"
      ],
      "execution_count": 43,
      "outputs": [
        {
          "output_type": "display_data",
          "data": {
            "image/png": "[encoded data removed]",
            "text/plain": [
              "<Figure size 432x288 with 25 Axes>"
            ]
          },
          "metadata": {
            "tags": [],
            "needs_background": "light"
          }
        }
      ]
    },
    {
      "cell_type": "code",
      "metadata": {
        "id": "p5CyKB-RKsPV",
        "colab_type": "code",
        "colab": {}
      },
      "source": [
        ""
      ],
      "execution_count": null,
      "outputs": []
    }
  ]
}